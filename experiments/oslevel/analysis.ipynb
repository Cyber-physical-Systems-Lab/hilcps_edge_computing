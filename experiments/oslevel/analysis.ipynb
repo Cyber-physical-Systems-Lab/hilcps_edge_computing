{
 "cells": [
  {
   "cell_type": "code",
   "execution_count": 2,
   "metadata": {},
   "outputs": [],
   "source": [
    "import pandas as pd\n",
    "import os\n",
    "from datetime import datetime\n",
    "import re\n",
    "import matplotlib.pyplot as plt"
   ]
  },
  {
   "cell_type": "code",
   "execution_count": 8,
   "metadata": {},
   "outputs": [],
   "source": [
    "\n",
    "#[INFO] [1715773048.812556027] [workspace_USB]: START\tPID 3429\tUID 1e790398-6269-4160-ae2e-cf1f0d9c667d\tTIMESTAMP 1715773048506497093\n",
    "#[INFO] [1715773049.277655391] [workspace_USB]: HAND\tPID 3429\tUID 1e790398-6269-4160-ae2e-cf1f0d9c667d\tTIMESTAMP 1715773049274735592\n",
    "#[INFO] [1715773049.303038248] [workspace_USB]: FINISH\tPID 3429\tUID 1e790398-6269-4160-ae2e-cf1f0d9c667d\tTIMESTAMP 1715773049300404166\n",
    "\n",
    "def process_camera_log_mc(log_file_path):\n",
    "    # Read the log file and split it into lines\n",
    "    with open(log_file_path, \"r\") as file:\n",
    "        lines = file.readlines()\n",
    "\n",
    "    # Initialize lists to store parsed data\n",
    "    pid_list = []\n",
    "    uid_list = []\n",
    "    start_timestamp_list = []\n",
    "    hand_timestamp_list = []\n",
    "    finish_timestamp_list = []\n",
    "\n",
    "    if lines and \"Camera started transmitting\" in lines[0]:\n",
    "        lines.pop(0)\n",
    "\n",
    "    # Iterate through lines, parsing the relevant data\n",
    "    for i in range(0, len(lines), 3):\n",
    "        # Check if all four lines for an entity are present\n",
    "        if i + 3 < len(lines):\n",
    "            start_line = lines[i].split()\n",
    "            hand_line = lines[i + 1].split()\n",
    "            finish_line = lines[i + 2].split()\n",
    "            \n",
    "            # Check if all lines correspond to the same PID\n",
    "            if (start_line[7] == hand_line[7] == finish_line[7]):\n",
    "                pid = start_line[5]\n",
    "                uid = start_line[7]\n",
    "                start_timestamp = int(start_line[9])\n",
    "                hand_timestamp = int(hand_line[9])\n",
    "                finish_timestamp = int(finish_line[9])\n",
    "\n",
    "                pid_list.append(pid)\n",
    "                uid_list.append(uid)\n",
    "                start_timestamp_list.append(start_timestamp)\n",
    "                hand_timestamp_list.append(hand_timestamp)\n",
    "                finish_timestamp_list.append(finish_timestamp)\n",
    "\n",
    "    # Create a pandas DataFrame\n",
    "    data = {\n",
    "        \"pid\": pid_list,\n",
    "        \"uid\": uid_list,\n",
    "        \"start_timestamp\": start_timestamp_list,\n",
    "        \"hand_timestamp\": hand_timestamp_list,\n",
    "        \"finish_timestamp\": finish_timestamp_list\n",
    "    }\n",
    "\n",
    "    df = pd.DataFrame(data)\n",
    "\n",
    "    # Convert timestamps to datetime objects\n",
    "    df[\"start_timestamp\"] = pd.to_datetime(df[\"start_timestamp\"])\n",
    "    df[\"hand_timestamp\"] = pd.to_datetime(df[\"hand_timestamp\"])\n",
    "    df[\"finish_timestamp\"] = pd.to_datetime(df[\"finish_timestamp\"])\n",
    "\n",
    "    return df\n",
    "\n",
    "\n",
    "def process_controller_log_mc(log_file_path):\n",
    "    # Read the log file and split it into lines\n",
    "    with open(log_file_path, \"r\") as file:\n",
    "        lines = file.readlines()\n",
    "\n",
    "    # Initialize lists to store parsed data\n",
    "    space_pid_list = []\n",
    "    hand_pid_list = []\n",
    "    uid_list = []\n",
    "    space_timestamp_list = []\n",
    "    hand_timestamp_list = []\n",
    "    \n",
    "    # Iterate through lines, parsing the relevant data\n",
    "    for i in range(0, len(lines)):\n",
    "        if i + 1 < len(lines):\n",
    "            line = lines[i].split()\n",
    "            \n",
    "            pid = line[5]\n",
    "            uid = line[7]\n",
    "            space_timestamp = int(line[9])\n",
    "            \n",
    "            space_pid_list.append(pid)\n",
    "            uid_list.append(uid)\n",
    "            space_timestamp_list.append(space_timestamp)\n",
    "                \n",
    "    # Create a pandas DataFrame\n",
    "    data = {\n",
    "        \"space_pid\": space_pid_list,\n",
    "        \"uid\": uid_list,\n",
    "        \"spacestate_receive\": space_timestamp_list,\n",
    "    }\n",
    "\n",
    "    df = pd.DataFrame(data)\n",
    "    df.drop(df.index[0], inplace=True)\n",
    "    # Convert timestamps to datetime objects\n",
    "    df[\"spacestate_receive\"] = pd.to_datetime(df[\"spacestate_receive\"])\n",
    "    return df\n"
   ]
  },
  {
   "cell_type": "code",
   "execution_count": 14,
   "metadata": {},
   "outputs": [
    {
     "data": {
      "text/plain": [
       "Timedelta('0 days 00:00:00.211217717')"
      ]
     },
     "execution_count": 14,
     "metadata": {},
     "output_type": "execute_result"
    }
   ],
   "source": [
    "pinned = process_camera_log_mc(\"/home/szogabaha/src/uu/thesis/software/hilcps_edge_computing/experiments/oslevel/pinned_threads/camera.log\")\n",
    "unpinned = process_camera_log_mc(\"/home/szogabaha/src/uu/thesis/software/hilcps_edge_computing/experiments/oslevel/unpinned_threads/camera.log\")\n",
    "\n",
    "pinned[\"exec_time\"] = pinned[\"finish_timestamp\"] - pinned[\"start_timestamp\"]\n",
    "unpinned[\"exec_time\"] = unpinned[\"finish_timestamp\"] - unpinned[\"start_timestamp\"]\n",
    "pinned[\"exec_time\"].mean()\n"
   ]
  },
  {
   "cell_type": "code",
   "execution_count": 15,
   "metadata": {},
   "outputs": [
    {
     "data": {
      "text/plain": [
       "Timedelta('0 days 00:00:00.222544935')"
      ]
     },
     "execution_count": 15,
     "metadata": {},
     "output_type": "execute_result"
    }
   ],
   "source": [
    "unpinned[\"exec_time\"].mean()"
   ]
  },
  {
   "cell_type": "code",
   "execution_count": null,
   "metadata": {},
   "outputs": [],
   "source": []
  }
 ],
 "metadata": {
  "kernelspec": {
   "display_name": "base",
   "language": "python",
   "name": "python3"
  },
  "language_info": {
   "codemirror_mode": {
    "name": "ipython",
    "version": 3
   },
   "file_extension": ".py",
   "mimetype": "text/x-python",
   "name": "python",
   "nbconvert_exporter": "python",
   "pygments_lexer": "ipython3",
   "version": "3.7.13"
  }
 },
 "nbformat": 4,
 "nbformat_minor": 2
}
