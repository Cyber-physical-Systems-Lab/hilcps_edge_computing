{
 "cells": [
  {
   "cell_type": "code",
   "execution_count": 2,
   "metadata": {},
   "outputs": [],
   "source": [
    "import pandas as pd\n",
    "import os\n",
    "from datetime import datetime\n",
    "import re\n",
    "import matplotlib.pyplot as plt"
   ]
  },
  {
   "cell_type": "code",
   "execution_count": 3,
   "metadata": {},
   "outputs": [],
   "source": [
    "\n",
    "#[INFO] [1715773048.812556027] [workspace_USB]: START\tPID 3429\tUID 1e790398-6269-4160-ae2e-cf1f0d9c667d\tTIMESTAMP 1715773048506497093\n",
    "#[INFO] [1715773049.277655391] [workspace_USB]: HAND\tPID 3429\tUID 1e790398-6269-4160-ae2e-cf1f0d9c667d\tTIMESTAMP 1715773049274735592\n",
    "#[INFO] [1715773049.303038248] [workspace_USB]: FINISH\tPID 3429\tUID 1e790398-6269-4160-ae2e-cf1f0d9c667d\tTIMESTAMP 1715773049300404167\n",
    "\n",
    "def process_log(log_file_path, remove_incomplete = False):\n",
    "    # Read the log file and split it into lines\n",
    "    with open(log_file_path, \"r\") as file:\n",
    "        lines = file.readlines()\n",
    "\n",
    "    # Initialize lists to store parsed data\n",
    "    record_stamp_list = []\n",
    "    pid_list = []\n",
    "    uid_list = []\n",
    "    timestamp_list = []\n",
    "    \n",
    "    # Iterate through lines, parsing the relevant data\n",
    "    for i in range(0, len(lines)):\n",
    "        line = lines[i].split()\n",
    "        \n",
    "        stamp = line[3]\n",
    "        pid = line[5]\n",
    "        uid = line[7]\n",
    "        timestamp = int(line[9])\n",
    "        \n",
    "        record_stamp_list.append(stamp)\n",
    "        pid_list.append(pid)\n",
    "        uid_list.append(uid)\n",
    "        timestamp_list.append(timestamp)        \n",
    "    # Create a pandas DataFrame\n",
    "    data = {\n",
    "        \"stamp\": record_stamp_list,\n",
    "        \"pid\": pid_list,\n",
    "        \"uid\": uid_list,\n",
    "        \"timestamp\": timestamp_list,\n",
    "    }\n",
    "\n",
    "    df = pd.DataFrame(data)\n",
    "    # Convert timestamps to datetime objects\n",
    "    df[\"timestamp\"] = pd.to_datetime(df[\"timestamp\"])\n",
    "    df = df.pivot_table(index=[\"pid\",\"uid\"], columns=\"stamp\", values=\"timestamp\", aggfunc='first').reset_index()\n",
    "    if remove_incomplete:\n",
    "        df = df.dropna()\n",
    "    return df\n"
   ]
  },
  {
   "cell_type": "code",
   "execution_count": 5,
   "metadata": {},
   "outputs": [],
   "source": [
    "def get_experiment_records(camera_path, controller_path, actuator_path, how=\"left\"):\n",
    "    cam = process_log(camera_path)\n",
    "    controller = process_log(controller_path)\n",
    "    actuator = process_log(actuator_path)\n",
    "    \n",
    "    merged_df = pd.merge(cam, controller, on=\"uid\", how=how)\n",
    "    return pd.merge(merged_df, actuator, on=\"uid\", how=how)\n"
   ]
  },
  {
   "cell_type": "code",
   "execution_count": 11,
   "metadata": {},
   "outputs": [],
   "source": [
    "# Constants for new columns\n",
    "CAMERA_EXEC = \"camera_exec\"\n",
    "ACTUATOR_REQ_EXEC = \"actuator_req_exec\"\n",
    "WORKSPACE_REC_EXEC = \"workspace_rec_exec\"\n",
    "ACTION_EXEC = \"action_exec\"\n",
    "CAM_CTRL_TRANSMISSION = \"camera_controller_transmission\"\n",
    "CTRL_ACT_TRANSMISSION = \"camera_actuator_transmission\"\n",
    "LATENCY = \"latency\"\n",
    "def get_mean_exec_times(df, drop = False):\n",
    "    if drop:\n",
    "        df = df.dropna()\n",
    "\n",
    "    \n",
    "    df[CAMERA_EXEC] = df[\"FINISH\"] - df[\"START\"]\n",
    "    df[ACTUATOR_REQ_EXEC] = df[\"ACTUATE_END\"] - df[\"ACTUATE_START\"]\n",
    "    df[CAM_CTRL_TRANSMISSION] = df[\"WORKSPACE_REC_START\"] - df[\"FINISH\"]\n",
    "    df[WORKSPACE_REC_EXEC] = df[\"WORKSPACE_REC_END\"] - df[\"WORKSPACE_REC_START\"]\n",
    "    #df[CTRL_ACT_TRANSMISSION] = df[\"ACTION_INIT\"] - df[\"ACTUATE_END\"]\n",
    "    #df[ACTION_EXEC] = df[\"ACTION_FINISH\"] - df[\"ACTION_INIT\"]\n",
    "    #df[LATENCY] = df[\"ACTION_INIT\"] - df[\"START\"]\n",
    "\n",
    "    # Convert timedeltas to milliseconds as float\n",
    "    df[CAMERA_EXEC] = df[CAMERA_EXEC].apply(lambda x: float(x.total_seconds() * 1000))\n",
    "    df[ACTUATOR_REQ_EXEC] = df[ACTUATOR_REQ_EXEC].apply(lambda x: float(x.total_seconds() * 1000))\n",
    "    df[CAM_CTRL_TRANSMISSION] = df[CAM_CTRL_TRANSMISSION].apply(lambda x: float(x.total_seconds() * 1000))\n",
    "    df[WORKSPACE_REC_EXEC] = df[WORKSPACE_REC_EXEC].apply(lambda x: float(x.total_seconds() * 1000))\n",
    "    #df[CTRL_ACT_TRANSMISSION] = df[CTRL_ACT_TRANSMISSION].apply(lambda x: float(x.total_seconds() * 1000)) \n",
    "    #df[ACTION_EXEC] = df[ACTION_EXEC].apply(lambda x: float(x.total_seconds() * 1000))\n",
    "    #df[LATENCY] = df[LATENCY].apply(lambda x: float(x.total_seconds() * 1000))\n",
    "    return df\n"
   ]
  },
  {
   "cell_type": "code",
   "execution_count": 14,
   "metadata": {},
   "outputs": [
    {
     "name": "stdout",
     "output_type": "stream",
     "text": [
      "stamp\n",
      "camera_exec                       190.636148\n",
      "actuator_req_exec                   5.516846\n",
      "camera_controller_transmission      1.557096\n",
      "workspace_rec_exec                  4.587134\n",
      "dtype: float64\n",
      "stamp\n",
      "camera_exec                       186.460262\n",
      "actuator_req_exec                   6.058496\n",
      "camera_controller_transmission      2.482428\n",
      "workspace_rec_exec                  4.248545\n",
      "dtype: float64\n"
     ]
    }
   ],
   "source": [
    "hil_running = get_experiment_records(\"/home/szogabaha/src/uu/thesis/software/hilcps_edge_computing/experiments/hil_effect/hil_running/camera.log\",\n",
    "                                '/home/szogabaha/src/uu/thesis/software/hilcps_edge_computing/experiments/hil_effect/hil_running/controller.log',\n",
    "                                '/home/szogabaha/src/uu/thesis/software/hilcps_edge_computing/experiments/hil_effect/hil_running/hil.log')\n",
    "hil_not_running = get_experiment_records(\"/home/szogabaha/src/uu/thesis/software/hilcps_edge_computing/experiments/hil_effect/hil_not_running/camera.log\",\n",
    "                                '/home/szogabaha/src/uu/thesis/software/hilcps_edge_computing/experiments/hil_effect/hil_not_running/controller.log',\n",
    "                                '/home/szogabaha/src/uu/thesis/software/hilcps_edge_computing/experiments/hil_effect/hil_not_running/hil.log')\n",
    "\n",
    "df = get_mean_exec_times(hil_running, False)\n",
    "print(df[[CAMERA_EXEC,ACTUATOR_REQ_EXEC, CAM_CTRL_TRANSMISSION, WORKSPACE_REC_EXEC]].mean())\n",
    "df = get_mean_exec_times(hil_not_running, False)\n",
    "print(df[[CAMERA_EXEC, ACTUATOR_REQ_EXEC, CAM_CTRL_TRANSMISSION, WORKSPACE_REC_EXEC]].mean())"
   ]
  },
  {
   "cell_type": "code",
   "execution_count": null,
   "metadata": {},
   "outputs": [],
   "source": []
  }
 ],
 "metadata": {
  "kernelspec": {
   "display_name": "base",
   "language": "python",
   "name": "python3"
  },
  "language_info": {
   "codemirror_mode": {
    "name": "ipython",
    "version": 3
   },
   "file_extension": ".py",
   "mimetype": "text/x-python",
   "name": "python",
   "nbconvert_exporter": "python",
   "pygments_lexer": "ipython3",
   "version": "3.7.13"
  }
 },
 "nbformat": 4,
 "nbformat_minor": 2
}
